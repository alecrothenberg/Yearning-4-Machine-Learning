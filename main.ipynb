{
 "cells": [
  {
   "attachments": {},
   "cell_type": "markdown",
   "metadata": {},
   "source": [
    "# Finding the Feeling: Identifying the Key Emotions of a song"
   ]
  },
  {
   "cell_type": "code",
   "execution_count": 7,
   "metadata": {},
   "outputs": [],
   "source": [
    "import pandas as pd\n",
    "import numpy as np"
   ]
  },
  {
   "attachments": {},
   "cell_type": "markdown",
   "metadata": {},
   "source": [
    "## Lyrics Preprocessing: To lower, "
   ]
  },
  {
   "cell_type": "code",
   "execution_count": 8,
   "metadata": {},
   "outputs": [],
   "source": [
    "import nltk\n",
    "import os\n",
    "import string\n",
    "import re\n",
    "# create new folder to hold the preprocessed data\n",
    "# create new text files with the preprocessed data \n",
    "# create three functions to do upper to lower, \n",
    "\n",
    "rawTextDataDir = \"dataset/Lyrics/\"\n",
    "preprocessedDataDir = \"preprocessedData/Lyrics/\"\n",
    "\n",
    "#iterate over all files in rawText and create an associated proccessed file in preprocessed dir\n",
    "\n",
    "# to lower\n",
    "for fileName in os.listdir(rawTextDataDir):\n",
    "    \n",
    "    with open(rawTextDataDir + fileName, 'r') as data:\n",
    "        newFileName = \"processed\" + fileName\n",
    "        \n",
    "        with open (preprocessedDataDir + newFileName, 'a') as newData:\n",
    "            for line in data:\n",
    "                newData.write(line.lower())\n",
    "            newData.close();\n",
    "    data.close()\n",
    "\n",
    "\n"
   ]
  },
  {
   "cell_type": "code",
   "execution_count": 9,
   "metadata": {},
   "outputs": [],
   "source": [
    "# punctuatuon removal \n",
    "\n",
    "for fileName in os.listdir(preprocessedDataDir):\n",
    "    with open(preprocessedDataDir + fileName, 'r') as file:\n",
    "        data = file.read()\n",
    "    data = data.translate(str.maketrans(\"\",\"\", string.punctuation))\n",
    "    with open(preprocessedDataDir + fileName, 'w') as file:\n",
    "        file.write(data)\n",
    "            \n"
   ]
  },
  {
   "cell_type": "code",
   "execution_count": 10,
   "metadata": {},
   "outputs": [
    {
     "name": "stderr",
     "output_type": "stream",
     "text": [
      "[nltk_data] Downloading package stopwords to\n",
      "[nltk_data]     /home/markpolkhovskiy/nltk_data...\n",
      "[nltk_data]   Package stopwords is already up-to-date!\n",
      "[nltk_data] Downloading package punkt to\n",
      "[nltk_data]     /home/markpolkhovskiy/nltk_data...\n",
      "[nltk_data]   Package punkt is already up-to-date!\n"
     ]
    }
   ],
   "source": [
    "#stop word removal\n",
    "import nltk\n",
    "from nltk.corpus import stopwords\n",
    "from nltk.tokenize import word_tokenize\n",
    "\n",
    "\n",
    "nltk.download('stopwords')\n",
    "nltk.download('punkt')\n",
    "\n",
    "stop_words = set(stopwords.words('english'))\n",
    "for fileName in os.listdir(preprocessedDataDir):\n",
    "    with open(preprocessedDataDir + fileName) as file:\n",
    "        data = file.read()\n",
    "    tokens = nltk.word_tokenize(data)\n",
    "    filtered_tokens = [word for word in tokens if not word.lower() in stop_words]\n",
    "    filtered_text = ' '.join(filtered_tokens)\n",
    "    with open(preprocessedDataDir + fileName, 'w') as file:\n",
    "            file.write(filtered_text)"
   ]
  },
  {
   "cell_type": "code",
   "execution_count": 11,
   "metadata": {},
   "outputs": [
    {
     "name": "stderr",
     "output_type": "stream",
     "text": [
      "[nltk_data] Downloading package wordnet to\n",
      "[nltk_data]     /home/markpolkhovskiy/nltk_data...\n",
      "[nltk_data]   Package wordnet is already up-to-date!\n",
      "[nltk_data] Downloading package omw-1.4 to\n",
      "[nltk_data]     /home/markpolkhovskiy/nltk_data...\n",
      "[nltk_data]   Package omw-1.4 is already up-to-date!\n"
     ]
    }
   ],
   "source": [
    "# Lemmatization \n",
    "from nltk.stem import WordNetLemmatizer\n",
    "from nltk.stem import PorterStemmer\n",
    "\n",
    "nltk.download('wordnet')\n",
    "nltk.download('omw-1.4')\n",
    "lemmatizer = WordNetLemmatizer()\n",
    "stemmer = PorterStemmer()\n",
    "\n",
    "\n",
    "for fileName in os.listdir(preprocessedDataDir):\n",
    "    with open(preprocessedDataDir + fileName) as file:\n",
    "        data = file.read()\n",
    "    tokens = nltk.word_tokenize(data)\n",
    "    for (index,word) in enumerate(tokens):\n",
    "        tokens[index] = lemmatizer.lemmatize(word)\n",
    "        #tokens[index] = stemmer.stem(word)\n",
    "    lemmatized_tokens = ' '.join(tokens)\n",
    "    with open(preprocessedDataDir + fileName, 'w') as file:\n",
    "        file.write(lemmatized_tokens);\n"
   ]
  },
  {
   "attachments": {},
   "cell_type": "markdown",
   "metadata": {},
   "source": [
    "## Audio processing"
   ]
  },
  {
   "cell_type": "code",
   "execution_count": 12,
   "metadata": {},
   "outputs": [],
   "source": [
    "import librosa"
   ]
  },
  {
   "attachments": {},
   "cell_type": "markdown",
   "metadata": {},
   "source": [
    "### Define functions to exatract features and combine them"
   ]
  },
  {
   "cell_type": "code",
   "execution_count": 13,
   "metadata": {},
   "outputs": [],
   "source": [
    "def extractLoudness(signal):\n",
    "    df_loudness = pd.DataFrame()\n",
    "    S, phase = librosa.magphase(librosa.stft(signal))\n",
    "    rms = librosa.feature.rms(S=S)\n",
    "    df_loudness['Loudness'] = rms[0]\n",
    "    return df_loudness\n",
    "\n",
    "def extractMFCCS(signal, sample_rate):\n",
    "    df_mfccs = pd.DataFrame()\n",
    "    mfccs = librosa.feature.mfcc(y=signal, sr=sample_rate, n_mfcc=12)\n",
    "    for n_mfcc in range(len(mfccs)):\n",
    "        df_mfccs['MFCC_%d'%(n_mfcc+1)] = mfccs.T[n_mfcc]\n",
    "    return df_mfccs\n",
    "\n",
    "def extractZeroCrossingRate(signal):\n",
    "    df_zero_crossing_rate = pd.DataFrame()\n",
    "    zcr = librosa.feature.zero_crossing_rate(y=signal)\n",
    "    df_zero_crossing_rate['ZCR'] = zcr[0]\n",
    "    return df_zero_crossing_rate\n",
    "\n",
    "def extractChroma(signal, sample_rate):\n",
    "    df_chroma = pd.DataFrame()\n",
    "    chromagram = librosa.feature.chroma_stft(y=signal, sr=sample_rate)\n",
    "    for n_chroma in range(len(chromagram)):\n",
    "        df_chroma['Chroma_%d'%(n_chroma+1)] = chromagram.T[n_chroma]\n",
    "    return df_chroma\n",
    "\n",
    "def extractMelSpectrogram(signal, sample_rate):\n",
    "    df_mel_spectrogram = pd.DataFrame()\n",
    "    mel_spectrogram = librosa.feature.melspectrogram(y=signal, sr=sample_rate, n_mels=12)\n",
    "    for n_mel in range(len(mel_spectrogram)):\n",
    "        df_mel_spectrogram['Mel_Spectrogram_%d'%(n_mel+1)] = mel_spectrogram.T[n_mel]\n",
    "    return df_mel_spectrogram\n",
    "\n",
    "def matrixToVector(matrixFeatures):\n",
    "    vector = []\n",
    "    for label in matrixFeatures.columns:\n",
    "        if label == 'Loudness' or label == 'ZCR':\n",
    "            vector.append(np.mean(matrixFeatures[label].dropna().to_numpy()))\n",
    "        else:\n",
    "            vector.extend(matrixFeatures[label].dropna().to_numpy())\n",
    "    return vector"
   ]
  },
  {
   "attachments": {},
   "cell_type": "markdown",
   "metadata": {},
   "source": [
    "### Extract features and flatten it"
   ]
  },
  {
   "cell_type": "code",
   "execution_count": 14,
   "metadata": {},
   "outputs": [],
   "source": [
    "audioDir = 'dataset/Audio'\n",
    "features_vectors = []\n",
    "\n",
    "for file in os.listdir(audioDir):\n",
    "    signal, rate = librosa.load(f'{audioDir}/{file}')\n",
    "    matrix = pd.concat([\n",
    "        extractLoudness(signal), \n",
    "        extractMFCCS(signal, rate), \n",
    "        extractZeroCrossingRate(signal),\n",
    "        extractChroma(signal, rate),\n",
    "        extractMelSpectrogram(signal, rate)])\n",
    "    features_vectors.append(matrixToVector(matrix))"
   ]
  },
  {
   "attachments": {},
   "cell_type": "markdown",
   "metadata": {},
   "source": [
    "### Export data into a csv"
   ]
  },
  {
   "cell_type": "code",
   "execution_count": 15,
   "metadata": {},
   "outputs": [],
   "source": [
    "features_vectors = np.asarray(features_vectors)\n",
    "np.savetxt('audio_features.csv', features_vectors, delimiter=',')"
   ]
  },
  {
   "attachments": {},
   "cell_type": "markdown",
   "metadata": {},
   "source": [
    "### Load audio feature data from csv"
   ]
  },
  {
   "cell_type": "code",
   "execution_count": 21,
   "metadata": {},
   "outputs": [],
   "source": [
    "import csv\n",
    "reader = csv.reader(open(\"audio_features.csv\", \"r\"), delimiter=\",\")\n",
    "x = list(reader)\n",
    "features = np.array(x).astype(\"float\")"
   ]
  }
 ],
 "metadata": {
  "kernelspec": {
   "display_name": "base",
   "language": "python",
   "name": "python3"
  },
  "language_info": {
   "codemirror_mode": {
    "name": "ipython",
    "version": 3
   },
   "file_extension": ".py",
   "mimetype": "text/x-python",
   "name": "python",
   "nbconvert_exporter": "python",
   "pygments_lexer": "ipython3",
   "version": "3.9.16"
  },
  "orig_nbformat": 4,
  "vscode": {
   "interpreter": {
    "hash": "5b6ddfb2dcac28d85c50c41a252d540a7fa8764b66ffa4029a84ab1fab305572"
   }
  }
 },
 "nbformat": 4,
 "nbformat_minor": 2
}
