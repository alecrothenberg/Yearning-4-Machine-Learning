{
 "cells": [
  {
   "attachments": {},
   "cell_type": "markdown",
   "metadata": {},
   "source": [
    "Finding the Feeling: Identifying the Key Emotions of a song"
   ]
  },
  {
   "cell_type": "code",
   "execution_count": 2,
   "metadata": {},
   "outputs": [],
   "source": [
    "import pandas as pd\n",
    "import numpy as np\n"
   ]
  },
  {
   "attachments": {},
   "cell_type": "markdown",
   "metadata": {},
   "source": [
    "Lyrics Preprocessing: To lower, "
   ]
  },
  {
   "cell_type": "code",
   "execution_count": 3,
   "metadata": {},
   "outputs": [],
   "source": [
    "import nltk\n",
    "import os\n",
    "import string\n",
    "import re\n",
    "# create new folder to hold the preprocessed data\n",
    "# create new text files with the preprocessed data \n",
    "# create three functions to do upper to lower, \n",
    "\n",
    "rawTextDataDir = \"dataset/Lyrics/\"\n",
    "preprocessedDataDir = \"preprocessedData/Lyrics/\"\n",
    "\n",
    "#iterate over all files in rawText and create an associated proccessed file in preprocessed dir\n",
    "\n",
    "# to lower\n",
    "for fileName in os.listdir(rawTextDataDir):\n",
    "    \n",
    "    with open(rawTextDataDir + fileName, 'r') as data:\n",
    "        newFileName = \"processed\" + fileName\n",
    "        \n",
    "        with open (preprocessedDataDir + newFileName, 'a') as newData:\n",
    "            for line in data:\n",
    "                newData.write(line.lower())\n",
    "            newData.close();\n",
    "    data.close()\n",
    "\n",
    "\n"
   ]
  },
  {
   "cell_type": "code",
   "execution_count": 15,
   "metadata": {},
   "outputs": [],
   "source": [
    "# punctuatuon removal \n",
    "\n",
    "for fileName in os.listdir(preprocessedDataDir):\n",
    "    with open(preprocessedDataDir + fileName, 'r') as file:\n",
    "        \n",
    "        for line in file:\n",
    "            \n",
    "            line = line.translate(str.maketrans(\"\",\"\", string.punctuation))\n",
    "            "
   ]
  },
  {
   "cell_type": "markdown",
   "metadata": {},
   "source": [
    "<span style=\"color: lightgreen;\">Models</span>"
   ]
  },
  {
   "cell_type": "code",
   "execution_count": null,
   "metadata": {},
   "outputs": [],
   "source": [
    "from sklearn.ensemble import RandomForestClassifier\n",
    "from sklearn.linear_model import LinearRegression\n",
    "from sklearn.naive_bayes import MultinomialNB\n",
    "from sklearn.svm import SVC\n",
    "\n",
    "# modelSelector holds all of the different models we will use to train the data\n",
    "modelSelector = {\n",
    "    'Random Forest': RandomForestClassifier(numClassifiers=100),\n",
    "    'Linear Regression': LinearRegression(),\n",
    "    'Multinomial Naive Bayes': MultinomialNB(),\n",
    "    'Support Vector Classifier': SVC(kernel='linear')      # using linear SVC\n",
    "}\n",
    "\n",
    "for modelName, model in modelSelector.items():\n",
    "    model.fit(xTrain, yTrain)  # need train and test data before we can run this!\n",
    "    y_pred = model.predict(xTest)\n",
    "    accuracy = accuracy_score(yTest, yPred)\n",
    "    print(f\"{modelName} Accuracy: {accuracy:.2f}\")  # helps with analysis, we may wanna move this to further modulize implementation\n",
    "    print(classification_report(yTest, yPred, target_names=encoder.classes_))\n",
    "    print()"
   ]
  },
  {
   "attachments": {},
   "cell_type": "markdown",
   "metadata": {},
   "source": [
    "<span style=\"color: lightblue;\">Early Fusion</span>"
   ]
  },
  {
   "cell_type": "code",
   "execution_count": null,
   "metadata": {},
   "outputs": [],
   "source": []
  },
  {
   "attachments": {},
   "cell_type": "markdown",
   "metadata": {},
   "source": [
    "<span style=\"color: lightblue;\">Late Fusion</span>"
   ]
  },
  {
   "cell_type": "code",
   "execution_count": null,
   "metadata": {},
   "outputs": [],
   "source": []
  }
 ],
 "metadata": {
  "kernelspec": {
   "display_name": "Python (y4ml)",
   "language": "python",
   "name": "y4ml"
  },
  "language_info": {
   "codemirror_mode": {
    "name": "ipython",
    "version": 3
   },
   "file_extension": ".py",
   "mimetype": "text/x-python",
   "name": "python",
   "nbconvert_exporter": "python",
   "pygments_lexer": "ipython3",
   "version": "3.11.2"
  },
  "orig_nbformat": 4,
  "vscode": {
   "interpreter": {
    "hash": "5b6ddfb2dcac28d85c50c41a252d540a7fa8764b66ffa4029a84ab1fab305572"
   }
  }
 },
 "nbformat": 4,
 "nbformat_minor": 2
}
