{
 "cells": [
  {
   "attachments": {},
   "cell_type": "markdown",
   "metadata": {},
   "source": [
    "Finding the Feeling: Identifying the Key Emotions of a song"
   ]
  },
  {
   "cell_type": "code",
   "execution_count": 2,
   "metadata": {},
   "outputs": [],
   "source": [
    "import pandas as pd\n",
    "import numpy as np\n"
   ]
  },
  {
   "attachments": {},
   "cell_type": "markdown",
   "metadata": {},
   "source": [
    "Lyrics Preprocessing: To lower, "
   ]
  },
  {
   "cell_type": "code",
   "execution_count": 1,
   "metadata": {},
   "outputs": [],
   "source": [
    "import nltk\n",
    "import os\n",
    "import string\n",
    "import re\n",
    "# create new folder to hold the preprocessed data\n",
    "# create new text files with the preprocessed data \n",
    "# create three functions to do upper to lower, \n",
    "\n",
    "rawTextDataDir = \"dataset/Lyrics/\"\n",
    "preprocessedDataDir = \"preprocessedData/Lyrics/\"\n",
    "\n",
    "#iterate over all files in rawText and create an associated proccessed file in preprocessed dir\n",
    "\n",
    "# to lower\n",
    "for fileName in os.listdir(rawTextDataDir):\n",
    "    \n",
    "    with open(rawTextDataDir + fileName, 'r') as data:\n",
    "        newFileName = \"processed\" + fileName\n",
    "        \n",
    "        with open (preprocessedDataDir + newFileName, 'a') as newData:\n",
    "            for line in data:\n",
    "                newData.write(line.lower())\n",
    "            newData.close();\n",
    "    data.close()\n",
    "\n",
    "\n"
   ]
  },
  {
   "cell_type": "code",
   "execution_count": 4,
   "metadata": {},
   "outputs": [],
   "source": [
    "# punctuatuon removal \n",
    "\n",
    "for fileName in os.listdir(preprocessedDataDir):\n",
    "    with open(preprocessedDataDir + fileName, 'r') as file:\n",
    "        data = file.read()\n",
    "    data = data.translate(str.maketrans(\"\",\"\", string.punctuation))\n",
    "    with open(preprocessedDataDir + fileName, 'w') as file:\n",
    "        file.write(data)\n",
    "            \n"
   ]
  },
  {
   "cell_type": "code",
   "execution_count": 13,
   "metadata": {},
   "outputs": [
    {
     "name": "stderr",
     "output_type": "stream",
     "text": [
      "[nltk_data] Downloading package stopwords to\n",
      "[nltk_data]     C:\\Users\\alecr\\AppData\\Roaming\\nltk_data...\n",
      "[nltk_data]   Package stopwords is already up-to-date!\n",
      "[nltk_data] Downloading package punkt to\n",
      "[nltk_data]     C:\\Users\\alecr\\AppData\\Roaming\\nltk_data...\n",
      "[nltk_data]   Package punkt is already up-to-date!\n"
     ]
    }
   ],
   "source": [
    "#stop word removal\n",
    "import nltk\n",
    "from nltk.corpus import stopwords\n",
    "from nltk.tokenize import word_tokenize\n",
    "\n",
    "\n",
    "nltk.download('stopwords')\n",
    "nltk.download('punkt')\n",
    "\n",
    "stop_words = set(stopwords.words('english'))\n",
    "for fileName in os.listdir(preprocessedDataDir):\n",
    "    with open(preprocessedDataDir + fileName) as file:\n",
    "        data = file.read()\n",
    "    tokens = nltk.word_tokenize(data)\n",
    "    filtered_tokens = [word for word in tokens if not word.lower() in stop_words]\n",
    "    filtered_text = ' '.join(filtered_tokens)\n",
    "    with open(preprocessedDataDir + fileName, 'w') as file:\n",
    "            file.write(filtered_text)"
   ]
  },
  {
   "cell_type": "code",
   "execution_count": 20,
   "metadata": {},
   "outputs": [
    {
     "name": "stderr",
     "output_type": "stream",
     "text": [
      "[nltk_data] Downloading package wordnet to\n",
      "[nltk_data]     C:\\Users\\alecr\\AppData\\Roaming\\nltk_data...\n",
      "[nltk_data]   Package wordnet is already up-to-date!\n",
      "[nltk_data] Downloading package omw-1.4 to\n",
      "[nltk_data]     C:\\Users\\alecr\\AppData\\Roaming\\nltk_data...\n",
      "[nltk_data]   Package omw-1.4 is already up-to-date!\n"
     ]
    }
   ],
   "source": [
    "# Lemmatization \n",
    "from nltk.stem import WordNetLemmatizer\n",
    "from nltk.stem import PorterStemmer\n",
    "\n",
    "nltk.download('wordnet')\n",
    "nltk.download('omw-1.4')\n",
    "lemmatizer = WordNetLemmatizer()\n",
    "stemmer = PorterStemmer()\n",
    "\n",
    "\n",
    "for fileName in os.listdir(preprocessedDataDir):\n",
    "    with open(preprocessedDataDir + fileName) as file:\n",
    "        data = file.read()\n",
    "    tokens = nltk.word_tokenize(data)\n",
    "    for (index,word) in enumerate(tokens):\n",
    "        tokens[index] = lemmatizer.lemmatize(word)\n",
    "        #tokens[index] = stemmer.stem(word)\n",
    "    lemmatized_tokens = ' '.join(tokens)\n",
    "    with open(preprocessedDataDir + fileName, 'w') as file:\n",
    "        file.write(lemmatized_tokens);\n"
   ]
  }
 ],
 "metadata": {
  "kernelspec": {
   "display_name": "base",
   "language": "python",
   "name": "python3"
  },
  "language_info": {
   "codemirror_mode": {
    "name": "ipython",
    "version": 3
   },
   "file_extension": ".py",
   "mimetype": "text/x-python",
   "name": "python",
   "nbconvert_exporter": "python",
   "pygments_lexer": "ipython3",
   "version": "3.9.13"
  },
  "orig_nbformat": 4,
  "vscode": {
   "interpreter": {
    "hash": "5b6ddfb2dcac28d85c50c41a252d540a7fa8764b66ffa4029a84ab1fab305572"
   }
  }
 },
 "nbformat": 4,
 "nbformat_minor": 2
}
